{
 "cells": [
  {
   "cell_type": "code",
   "execution_count": 28,
   "metadata": {},
   "outputs": [],
   "source": [
    "import os\n",
    "import sys\n",
    "import random\n",
    "import shutil\n",
    "import pickle\n",
    "import random\n",
    "import numpy as np\n",
    "import torch\n",
    "from torch.utils.data import Dataset, DataLoader\n",
    "import sys\n",
    "import os\n",
    "from preprocessing import load_dataloader,ImageTransformer\n"
   ]
  },
  {
   "cell_type": "code",
   "execution_count": null,
   "metadata": {},
   "outputs": [],
   "source": [
    "class SplitTrainTest:\n",
    "    def __init__(self, data_path, train_path, test_path, train_ratio=0.8):\n",
    "        \"\"\"\n",
    "        Function:Initializes the SplitTrainTest object with the given paths for dataset, training, and testing directories, \n",
    "        and a train ratio for splitting the data.\n",
    "\n",
    "        Parameters:\n",
    "            data_path (str): The path to the source dataset.\n",
    "            train_path (str): The path to the output training directory.\n",
    "            test_path (str): The path to the output testing directory.\n",
    "            train_ratio (float): Ratio of the data to be used for training (default 0.8).\n",
    "        \"\"\"\n",
    "        self.data_path = data_path\n",
    "        self.train_path = train_path\n",
    "        self.test_path = test_path\n",
    "        self.train_ratio = train_ratio\n",
    "        self.n_train_images = []\n",
    "        self.n_test_images = []\n",
    "\n",
    "    def copy_dir(self, images, class_path, split_class_path):\n",
    "        \"\"\"\n",
    "        Function: Copies a list of image files from the source directory to the destination directory.\n",
    "                   For example, copies the images from the data class path to train/test paths\n",
    "\n",
    "        Parameters:\n",
    "            images (list): List of image file names to be copied.\n",
    "            class_path (str): Path to the source directory (class folder).\n",
    "            split_class_path (str): Path to the destination directory (train/test subfolder).\n",
    "        \"\"\"\n",
    "        for file_name in images:\n",
    "            source_path = os.path.join(class_path, file_name)\n",
    "            destination_path = os.path.join(split_class_path, file_name)\n",
    "            shutil.copy(source_path, destination_path)\n",
    "\n",
    "    def split(self):\n",
    "        \"\"\"\n",
    "        Function: Splits the dataset into training and testing sets based on the specified train ratio.\n",
    "        It shuffles the images within each class, divides them into train and test sets, and\n",
    "        copies them into their respective directories.\n",
    "        \"\"\"\n",
    "        for class_name in os.listdir(self.data_path):\n",
    "            class_path = os.path.join(self.data_path, class_name)\n",
    "            if os.path.isdir(class_path):\n",
    "                train_class_path = os.path.join(self.train_path, class_name)\n",
    "                test_class_path = os.path.join(self.test_path, class_name)\n",
    "                # Creating class directory in each test and train directories\n",
    "                os.makedirs(train_class_path, exist_ok=True)\n",
    "                os.makedirs(test_class_path, exist_ok=True)\n",
    "\n",
    "                # Shuffling the images present in each class directory of test and train folders\n",
    "                class_images = os.listdir(class_path)\n",
    "                random.shuffle(class_images)\n",
    "\n",
    "                # Calculating the split index based on the train ratio.\n",
    "                split_idx = int(len(class_images) * self.train_ratio)\n",
    "\n",
    "                # Splitting the images into train and test based on the calculated split index\n",
    "                train_images = class_images[:split_idx]\n",
    "                test_images = class_images[split_idx:]\n",
    "                self.n_train_images.append(len(train_images))\n",
    "                self.n_test_images.append(len(test_images))\n",
    "\n",
    "                # Storing the train images from data class path to the train class path in train folder.\n",
    "                self.copy_dir(train_images, class_path, train_class_path)\n",
    "                \n",
    "                # Storing the test images from data class path to the train class path in the test folder.\n",
    "                self.copy_dir(test_images, class_path, test_class_path)\n",
    "                \n",
    "        print(f\"\"\"Data is split into train and test sets successfully!\n",
    "                The train data is stored at {self.train_path}\n",
    "                The test data is stored at {self.test_path}\"\"\")"
   ]
  },
  {
   "cell_type": "code",
   "execution_count": 5,
   "metadata": {},
   "outputs": [
    {
     "name": "stdout",
     "output_type": "stream",
     "text": [
      "Data is split into train and test sets successfully!\n",
      "                The train data is stored at c:\\Users\\saiye\\Documents\\Scientific_computing_project\\Notebook\\..\\train_data\n",
      " \n",
      "                The test data is stored at c:\\Users\\saiye\\Documents\\Scientific_computing_project\\Notebook\\..\\test_data\n"
     ]
    }
   ],
   "source": [
    "data_path=os.path.join(os.getcwd(),\"..\",\"data_copy\")\n",
    "train_path=os.path.join(os.getcwd(),\"..\",\"train_data\")\n",
    "test_path=os.path.join(os.getcwd(),\"..\",\"test_data\")\n",
    "split=SplitTrainTest(data_path,train_path,test_path,train_ratio=0.8)\n",
    "split.split()"
   ]
  },
  {
   "cell_type": "code",
   "execution_count": null,
   "metadata": {},
   "outputs": [],
   "source": [
    "# Loading the batch_data_loader and retrieving the stored variables.\n",
    "loaded_dataloader, class_dict_stats, global_dict_stats=load_dataloader(\"batch_data_loader3.pth\")\n",
    "dataset=loaded_dataloader.dataset\n",
    "\n",
    "\n",
    "# Calculate and print the ratio of train and test images\n",
    "print(sum(split.n_train_images) / len(dataset))\n",
    "print(sum(split.n_test_images) / len(dataset))"
   ]
  },
  {
   "cell_type": "code",
   "execution_count": 10,
   "metadata": {},
   "outputs": [
    {
     "data": {
      "text/plain": [
       "0.799553101997897"
      ]
     },
     "execution_count": 10,
     "metadata": {},
     "output_type": "execute_result"
    }
   ],
   "source": [
    "sum(split.n_train_images)/7608"
   ]
  },
  {
   "cell_type": "code",
   "execution_count": 29,
   "metadata": {},
   "outputs": [
    {
     "name": "stdout",
     "output_type": "stream",
     "text": [
      "DataLoader loaded from batch_data_loader3.pth\n",
      "0.799553101997897\n",
      "0.20044689800210305\n"
     ]
    }
   ],
   "source": [
    "# Loading the batch_data_loader and retrieving the stored variables.\n",
    "loaded_dataloader, class_dict_stats, global_dict_stats=load_dataloader(\"batch_data_loader3.pth\")\n",
    "dataset=loaded_dataloader.dataset\n",
    "\n",
    "\n",
    "# Calculate and print the ratio of train and test images\n",
    "print(sum(split.n_train_images) / len(dataset))\n",
    "print(sum(split.n_test_images) / len(dataset))"
   ]
  },
  {
   "cell_type": "code",
   "execution_count": null,
   "metadata": {},
   "outputs": [],
   "source": []
  },
  {
   "cell_type": "code",
   "execution_count": null,
   "metadata": {},
   "outputs": [],
   "source": []
  }
 ],
 "metadata": {
  "kernelspec": {
   "display_name": "base",
   "language": "python",
   "name": "python3"
  },
  "language_info": {
   "codemirror_mode": {
    "name": "ipython",
    "version": 3
   },
   "file_extension": ".py",
   "mimetype": "text/x-python",
   "name": "python",
   "nbconvert_exporter": "python",
   "pygments_lexer": "ipython3",
   "version": "3.12.7"
  }
 },
 "nbformat": 4,
 "nbformat_minor": 2
}
